{
 "cells": [
  {
   "cell_type": "code",
   "execution_count": 1,
   "metadata": {},
   "outputs": [],
   "source": [
    "# libs\n",
    "import pandas as pd\n",
    "import numpy as np\n",
    "\n",
    "# read in data \n",
    "# grab every file from this folder C:\\Users\\cayde\\Desktop\\Grad_School_stuff\\data-534_expo_proj\\Synergistic_Computing_hf\\benchmarking\\new\\output\n",
    "# and put it into a dataframe\n",
    "\n",
    "# read in every file name from the folder\n",
    "import os\n",
    "path = r'C:\\Users\\cayde\\Desktop\\Grad_School_stuff\\data-534_expo_proj\\Synergistic_Computing_hf\\benchmarking\\new\\output'\n",
    "files = os.listdir(path)\n",
    "\n",
    "# create a dataframe for each file. use the file name as the dataframe name\n",
    "for file in files:\n",
    "    # read in the file\n",
    "    temp_df = pd.read_csv(path + '\\\\' + file, sep=',')\n",
    "    # remove the .txt from the file name\n",
    "    df_name = file[:-4]\n",
    "    # create a dataframe with the name of the file\n",
    "    exec(df_name + \" = temp_df\")"
   ]
  },
  {
   "cell_type": "code",
   "execution_count": 2,
   "metadata": {},
   "outputs": [
    {
     "name": "stderr",
     "output_type": "stream",
     "text": [
      "C:\\Users\\cayde\\AppData\\Local\\Temp\\ipykernel_19448\\2815882531.py:13: FutureWarning: The frame.append method is deprecated and will be removed from pandas in a future version. Use pandas.concat instead.\n",
      "  batch1_df = batch1_df.append(temp_df, ignore_index=True)\n",
      "C:\\Users\\cayde\\AppData\\Local\\Temp\\ipykernel_19448\\2815882531.py:26: FutureWarning: The frame.append method is deprecated and will be removed from pandas in a future version. Use pandas.concat instead.\n",
      "  batch2_3 = batch2_3.append(batch2_3_Q_0_37, ignore_index=True)\n",
      "C:\\Users\\cayde\\AppData\\Local\\Temp\\ipykernel_19448\\2815882531.py:35: FutureWarning: The frame.append method is deprecated and will be removed from pandas in a future version. Use pandas.concat instead.\n",
      "  df_master = df_master.append(df, ignore_index=True)\n"
     ]
    }
   ],
   "source": [
    "# append all batch1 dataframes together. they names of all batch 1 dataframes start with batch1\n",
    "\n",
    "# create a list of all batch1 dataframes. but ignore batch10\n",
    "batch1_dfs = []\n",
    "for file in files:\n",
    "    if file.startswith('batch1') and not file.startswith('batch10'):\n",
    "        batch1_dfs.append(file[:-4])\n",
    "\n",
    "# create a dataframe with all batch1 dataframes appended together\n",
    "batch1_df = pd.DataFrame()\n",
    "for df in batch1_dfs:\n",
    "    temp_df = eval(df)\n",
    "    batch1_df = batch1_df.append(temp_df, ignore_index=True)\n",
    "\n",
    "# order the rows by the 'PK' column\n",
    "batch1_df = batch1_df.sort_values(by=['PK'])\n",
    "\n",
    "# drop the column 'PK' and add a column named 'batch_number' with the value of 1\n",
    "batch1_df = batch1_df.drop(columns=['PK'])\n",
    "batch1_df['batch_number'] = 1\n",
    "\n",
    "# for the dataframe batch2_3_Q_0_37 drop everything after row 36\n",
    "batch2_3_Q_0_37 = batch2_3_Q_0_37.drop(batch2_3_Q_0_37.index[37:])\n",
    "\n",
    "# append batch2_3_Q_0_37 to batch2_3\n",
    "batch2_3 = batch2_3.append(batch2_3_Q_0_37, ignore_index=True)\n",
    "\n",
    "# create a list of all the dataframes\n",
    "df_list = [batch1_df, batch2_3, batch4_5, batch6_7, batch8_9, batch10]\n",
    "\n",
    "# append all the dataframes together\n",
    "df_master = pd.DataFrame()\n",
    "\n",
    "for df in df_list:\n",
    "    df_master = df_master.append(df, ignore_index=True)\n",
    "\n",
    "# write the master dataframe to a csv file\n",
    "df_master.to_csv('output/master.csv', index=False)\n"
   ]
  },
  {
   "cell_type": "code",
   "execution_count": 24,
   "metadata": {},
   "outputs": [
    {
     "name": "stdout",
     "output_type": "stream",
     "text": [
      "Agents results:\n",
      "agents CORRECT count: 440 | agents INCORRECT count: 760 \n",
      "system failure count: 459\n",
      "\n",
      "GPT-4 results:\n",
      "gpt-4 CORRECT count: 572 | gpt-4 INCORRECT count: 628\n",
      "\n",
      "compare stats:\n",
      "Agent got correct, GPT-4 incorrect: 133\n",
      "Agent got incorrect(including \"system failure\"), GPT-4 correct: 265\n",
      "Agent got incorrect(excluding \"system failure\"), GPT-4 correct: 91\n"
     ]
    }
   ],
   "source": [
    "# the column 'agents_score' is a long string that starts will CORRECT or INCORRECT count the occurances of CORRECT and INCORRECT and print the results\n",
    "correct_count = (df_master['agents_score'].str.startswith('CORRECT')).sum()\n",
    "incorrect_count = (df_master['agents_score'].str.startswith('INCORRECT')).sum()\n",
    "\n",
    "print('Agents results:')\n",
    "print(f'agents CORRECT count: {correct_count} | agents INCORRECT count: {incorrect_count} ')\n",
    "\n",
    "failed_to_answer_wrong_count = ((df_master['agent_answer'] == 'failed to answer') & (df_master['agents_score'].str.startswith('INCORRECT'))).sum()\n",
    "\n",
    "print(f'system failure count: {failed_to_answer_wrong_count}\\n')\n",
    "\n",
    "# do the same for the column 'gpt-4_score'\n",
    "correct_count = (df_master['gpt-4_score'].str.startswith('CORRECT')).sum()\n",
    "incorrect_count = (df_master['gpt-4_score'].str.startswith('INCORRECT')).sum()\n",
    "\n",
    "print('GPT-4 results:')\n",
    "print(f'gpt-4 CORRECT count: {correct_count} | gpt-4 INCORRECT count: {incorrect_count}\\n')\n",
    "\n",
    "correct_agent_incorrect_gpt = ((df_master['agents_score'].str.startswith('CORRECT')) & (df_master['gpt-4_score'].str.startswith('INCORRECT'))).sum()\n",
    "incorrect_agent_correct_gpt = ((df_master['agents_score'].str.startswith('INCORRECT')) & (df_master['gpt-4_score'].str.startswith('CORRECT'))).sum()\n",
    "\n",
    "print('compare stats:')\n",
    "print(f'Agent got correct, GPT-4 incorrect: {correct_agent_incorrect_gpt}')\n",
    "print(f'Agent got incorrect(including \"system failure\"), GPT-4 correct: {incorrect_agent_correct_gpt}')\n",
    "\n",
    "wrong_answer_correct_gpt_count = ((df_master['agent_answer'] != 'failed to answer') & (df_master['agents_score'].str.startswith('INCORRECT')) & (df_master['gpt-4_score'].str.startswith('CORRECT'))).sum()\n",
    "\n",
    "print(f'Agent got incorrect(excluding \"system failure\"), GPT-4 correct: {wrong_answer_correct_gpt_count}')"
   ]
  }
 ],
 "metadata": {
  "kernelspec": {
   "display_name": "Python 3",
   "language": "python",
   "name": "python3"
  },
  "language_info": {
   "codemirror_mode": {
    "name": "ipython",
    "version": 3
   },
   "file_extension": ".py",
   "mimetype": "text/x-python",
   "name": "python",
   "nbconvert_exporter": "python",
   "pygments_lexer": "ipython3",
   "version": "3.8.10"
  },
  "orig_nbformat": 4
 },
 "nbformat": 4,
 "nbformat_minor": 2
}
